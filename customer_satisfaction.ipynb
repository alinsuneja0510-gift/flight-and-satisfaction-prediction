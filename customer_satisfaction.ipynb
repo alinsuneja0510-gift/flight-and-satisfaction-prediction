{
 "cells": [
  {
   "cell_type": "code",
   "execution_count": 2,
   "id": "1ff34eda",
   "metadata": {},
   "outputs": [
    {
     "name": "stderr",
     "output_type": "stream",
     "text": [
      "c:\\Users\\Admin\\anaconda3\\Lib\\site-packages\\xgboost\\sklearn.py:1395: UserWarning: `use_label_encoder` is deprecated in 1.7.0.\n",
      "  warnings.warn(\"`use_label_encoder` is deprecated in 1.7.0.\")\n"
     ]
    },
    {
     "name": "stdout",
     "output_type": "stream",
     "text": [
      "\n",
      "🔧 Training and saving: logistic_regression ...\n",
      "✅ Saved logistic_regression_compressed.pkl - Size: 0.00 MB\n",
      "\n",
      "🔧 Training and saving: random_forest ...\n",
      "✅ Saved random_forest_compressed.pkl - Size: 7.28 MB\n",
      "\n",
      "🔧 Training and saving: gradient_boosting ...\n",
      "✅ Saved gradient_boosting_compressed.pkl - Size: 0.05 MB\n",
      "\n",
      "🔧 Training and saving: xgboost ...\n",
      "✅ Saved xgboost_compressed.pkl - Size: 0.11 MB\n",
      "\n",
      "🔧 Training and saving: knn ...\n",
      "✅ Saved knn_compressed.pkl - Size: 1.80 MB\n"
     ]
    }
   ],
   "source": [
    "# customer_satisfaction_model_training.py\n",
    "import os\n",
    "import joblib\n",
    "import pandas as pd\n",
    "from pathlib import Path\n",
    "from sklearn.model_selection import train_test_split\n",
    "from sklearn.preprocessing import LabelEncoder, StandardScaler\n",
    "from sklearn.linear_model import LogisticRegression\n",
    "from sklearn.ensemble import RandomForestClassifier, GradientBoostingClassifier\n",
    "from sklearn.neighbors import KNeighborsClassifier\n",
    "from xgboost import XGBClassifier  # xgboost==1.7.6\n",
    "\n",
    "# Load and clean\n",
    "df = pd.read_csv(\"data/Passenger_Satisfaction.csv\").dropna()\n",
    "\n",
    "# Encode categorical\n",
    "le = LabelEncoder()\n",
    "for col in ['Gender', 'Customer Type', 'Type of Travel', 'Class', 'satisfaction']:\n",
    "    df[col] = le.fit_transform(df[col])\n",
    "\n",
    "X = df.drop(columns=['id', 'satisfaction'])\n",
    "y = df['satisfaction']\n",
    "\n",
    "X_train, X_test, y_train, y_test = train_test_split(X, y, test_size=0.2, random_state=42)\n",
    "\n",
    "# Scale features\n",
    "scaler = StandardScaler()\n",
    "X_train_scaled = scaler.fit_transform(X_train)\n",
    "X_test_scaled = scaler.transform(X_test)\n",
    "\n",
    "# Save scaler\n",
    "model_dir = Path(\"customer_satisfaction_prediction/models\")\n",
    "model_dir.mkdir(parents=True, exist_ok=True)\n",
    "joblib.dump(scaler, model_dir / \"scaler_compressed.pkl\", compress=(\"xz\", 3))\n",
    "\n",
    "# Models\n",
    "classifiers = {\n",
    "    \"logistic_regression\": LogisticRegression(max_iter=1000),\n",
    "    \"random_forest\": RandomForestClassifier(),\n",
    "    \"gradient_boosting\": GradientBoostingClassifier(),\n",
    "    \"xgboost\": XGBClassifier(use_label_encoder=False, eval_metric=\"logloss\"),\n",
    "    \"knn\": KNeighborsClassifier()\n",
    "}\n",
    "\n",
    "# Train and save\n",
    "for name, model in classifiers.items():\n",
    "    print(f\"\\n🔧 Training and saving: {name} ...\")\n",
    "    model.fit(X_train_scaled, y_train)\n",
    "\n",
    "    model_path = model_dir / f\"{name}_compressed.pkl\"\n",
    "    joblib.dump(model, model_path, compress=(\"xz\", 3))\n",
    "\n",
    "    size_mb = model_path.stat().st_size / (1024 * 1024)\n",
    "    print(f\"✅ Saved {model_path.name} - Size: {size_mb:.2f} MB\")\n"
   ]
  }
 ],
 "metadata": {
  "kernelspec": {
   "display_name": "base",
   "language": "python",
   "name": "python3"
  },
  "language_info": {
   "codemirror_mode": {
    "name": "ipython",
    "version": 3
   },
   "file_extension": ".py",
   "mimetype": "text/x-python",
   "name": "python",
   "nbconvert_exporter": "python",
   "pygments_lexer": "ipython3",
   "version": "3.12.3"
  }
 },
 "nbformat": 4,
 "nbformat_minor": 5
}

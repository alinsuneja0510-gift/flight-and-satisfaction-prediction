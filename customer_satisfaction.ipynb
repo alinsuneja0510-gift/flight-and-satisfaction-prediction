{
 "cells": [
  {
   "cell_type": "code",
   "execution_count": 3,
   "id": "90afb93d",
   "metadata": {},
   "outputs": [
    {
     "name": "stdout",
     "output_type": "stream",
     "text": [
      "✅ Models and scaler saved successfully!\n"
     ]
    }
   ],
   "source": [
    "# customer_model_training.py\n",
    "\n",
    "import os\n",
    "import pandas as pd\n",
    "import joblib\n",
    "from sklearn.model_selection import train_test_split\n",
    "from sklearn.preprocessing import LabelEncoder, StandardScaler  # ✅ Import fixed\n",
    "from sklearn.linear_model import LogisticRegression\n",
    "from sklearn.ensemble import RandomForestClassifier, GradientBoostingClassifier\n",
    "from sklearn.neighbors import KNeighborsClassifier\n",
    "from xgboost import XGBClassifier\n",
    "\n",
    "# Load and preprocess data\n",
    "df = pd.read_csv(\"data/Passenger_Satisfaction.csv\").dropna()\n",
    "\n",
    "# Encode categorical features\n",
    "le = LabelEncoder()\n",
    "for col in ['Gender', 'Customer Type', 'Type of Travel', 'Class', 'satisfaction']:\n",
    "    df[col] = le.fit_transform(df[col])\n",
    "\n",
    "# Features and labels\n",
    "X = df.drop(['id', 'satisfaction'], axis=1)\n",
    "y = df['satisfaction']\n",
    "\n",
    "# Feature scaling\n",
    "scaler = StandardScaler()  # ✅ Fixed\n",
    "X_scaled = scaler.fit_transform(X)\n",
    "\n",
    "# Train-test split\n",
    "X_train, X_test, y_train, y_test = train_test_split(X_scaled, y, test_size=0.2, random_state=42)\n",
    "\n",
    "# Classifiers\n",
    "models = {\n",
    "    \"logistic_regression\": LogisticRegression(max_iter=1000),\n",
    "    \"random_forest\": RandomForestClassifier(),\n",
    "    \"gradient_boosting\": GradientBoostingClassifier(),\n",
    "    \"xgboost\": XGBClassifier(),\n",
    "    \"knn\": KNeighborsClassifier()\n",
    "}\n",
    "\n",
    "# Save models\n",
    "os.makedirs(\"customer_satisfaction_prediction/models\", exist_ok=True)\n",
    "joblib.dump(scaler, \"customer_satisfaction_prediction/models/scaler.pkl\")\n",
    "\n",
    "for name, model in models.items():\n",
    "    model.fit(X_train, y_train)\n",
    "    joblib.dump(model, f\"customer_satisfaction_prediction/models/{name}.pkl\")\n",
    "\n",
    "print(\"✅ Models and scaler saved successfully!\")\n"
   ]
  },
  {
   "cell_type": "code",
   "execution_count": null,
   "id": "e169c71b",
   "metadata": {},
   "outputs": [],
   "source": []
  }
 ],
 "metadata": {
  "kernelspec": {
   "display_name": "base",
   "language": "python",
   "name": "python3"
  },
  "language_info": {
   "codemirror_mode": {
    "name": "ipython",
    "version": 3
   },
   "file_extension": ".py",
   "mimetype": "text/x-python",
   "name": "python",
   "nbconvert_exporter": "python",
   "pygments_lexer": "ipython3",
   "version": "3.12.3"
  }
 },
 "nbformat": 4,
 "nbformat_minor": 5
}

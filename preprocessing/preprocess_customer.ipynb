{
 "cells": [
  {
   "cell_type": "code",
   "execution_count": null,
   "id": "30fbaf83",
   "metadata": {},
   "outputs": [],
   "source": [
    "df = pd.read_csv(r\"C:\\Users\\Admin\\Project 3\\data\\Passenger_Satisfaction.csv\")\n",
    "df.dropna(inplace=True)\n",
    "\n",
    "# Encode categorical features\n",
    "for col in ['Gender', 'Customer Type', 'Type of Travel', 'Class', 'satisfaction']:\n",
    "    df[col] = le.fit_transform(df[col])\n",
    "\n",
    "X = df.drop(['id', 'satisfaction'], axis=1)\n",
    "y = df['satisfaction']\n",
    "\n",
    "from sklearn.model_selection import train_test_split\n",
    "from sklearn.linear_model import LogisticRegression\n",
    "from sklearn.ensemble import RandomForestClassifier, GradientBoostingClassifier\n",
    "from sklearn.neighbors import KNeighborsClassifier\n",
    "from xgboost import XGBClassifier\n",
    "\n",
    "X_train, X_test, y_train, y_test = train_test_split(X, y, test_size=0.2, random_state=42)\n",
    "\n",
    "classifiers = {\n",
    "    \"logistic_regression\": LogisticRegression(),\n",
    "    \"random_forest\": RandomForestClassifier(),\n",
    "    \"gradient_boosting\": GradientBoostingClassifier(),\n",
    "    \"xgboost\": XGBClassifier(),\n",
    "    \"knn\": KNeighborsClassifier()\n",
    "}\n",
    "\n",
    "import os\n",
    "\n",
    "# Create the model directory if it doesn't exist\n",
    "os.makedirs(\"customer_satisfaction_prediction/models\", exist_ok=True)\n",
    "\n",
    "for name, model in classifiers.items():\n",
    "    model.fit(X_train, y_train)\n",
    "    joblib.dump(model, f\"customer_satisfaction_prediction/models/{name}.pkl\")\n"
   ]
  }
 ],
 "metadata": {
  "kernelspec": {
   "display_name": "base",
   "language": "python",
   "name": "python3"
  },
  "language_info": {
   "codemirror_mode": {
    "name": "ipython",
    "version": 3
   },
   "file_extension": ".py",
   "mimetype": "text/x-python",
   "name": "python",
   "nbconvert_exporter": "python",
   "pygments_lexer": "ipython3",
   "version": "3.12.3"
  }
 },
 "nbformat": 4,
 "nbformat_minor": 5
}

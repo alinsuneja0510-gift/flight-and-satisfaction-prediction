{
 "cells": [
  {
   "cell_type": "code",
   "execution_count": 61,
   "id": "7e5f0d56",
   "metadata": {},
   "outputs": [
    {
     "name": "stdout",
     "output_type": "stream",
     "text": [
      "All model saved.\n"
     ]
    }
   ],
   "source": [
    "import pandas as pd\n",
    "import joblib\n",
    "from sklearn.model_selection import train_test_split\n",
    "from sklearn.linear_model import LinearRegression\n",
    "from sklearn.ensemble import RandomForestRegressor, GradientBoostingRegressor\n",
    "from sklearn.neighbors import KNeighborsRegressor\n",
    "from xgboost import XGBRegressor\n",
    "\n",
    "df = pd.read_csv(r\"C:\\Users\\Admin\\Project 3\\data\\Flight_Price.csv\")\n",
    "df.drop_duplicates(inplace=True)\n",
    "df.dropna(inplace=True)\n",
    "\n",
    "# Preprocessing\n",
    "df['Journey_day'] = pd.to_datetime(df['Date_of_Journey'], dayfirst=True).dt.day\n",
    "df['Journey_month'] = pd.to_datetime(df['Date_of_Journey'], dayfirst=True).dt.month\n",
    "\n",
    "for col in ['Dep_Time', 'Arrival_Time']:\n",
    "    df[col + '_hour'] = pd.to_datetime(df[col].str.split().str[0], format='%H:%M', errors='coerce').dt.hour\n",
    "    df[col + '_minute'] = pd.to_datetime(df[col].str.split().str[0], format='%H:%M', errors='coerce').dt.minute\n",
    "\n",
    "def duration_to_mins(duration):\n",
    "    h, m = 0, 0\n",
    "    parts = duration.strip().split(' ')\n",
    "    for part in parts:\n",
    "        if 'h' in part:\n",
    "            h = int(part.replace('h', ''))\n",
    "        elif 'm' in part:\n",
    "            m = int(part.replace('m', ''))\n",
    "    return h * 60 + m\n",
    "\n",
    "df['Duration_mins'] = df['Duration'].apply(duration_to_mins)\n",
    "\n",
    "from sklearn.preprocessing import LabelEncoder\n",
    "le = LabelEncoder()\n",
    "for col in ['Airline', 'Source', 'Destination', 'Route', 'Total_Stops', 'Additional_Info']:\n",
    "    df[col] = le.fit_transform(df[col])\n",
    "\n",
    "# Features & Target\n",
    "X = df[['Airline', 'Source', 'Destination', 'Route', 'Total_Stops', 'Journey_day', 'Journey_month',\n",
    "        'Dep_Time_hour', 'Dep_Time_minute', 'Arrival_Time_hour', 'Arrival_Time_minute', 'Duration_mins']]\n",
    "y = df['Price']\n",
    "\n",
    "X_train, X_test, y_train, y_test = train_test_split(X, y, test_size=0.2, random_state=42)\n",
    "\n",
    "import os\n",
    "\n",
    "# Ensure directory exists\n",
    "os.makedirs(\"flight_price_prediction/models\", exist_ok=True)\n",
    "\n",
    "import joblib\n",
    "\n",
    "models = {\n",
    "    \"linear_regression\": LinearRegression(),\n",
    "    \"random_forest\": RandomForestRegressor(),\n",
    "    \"gradient_boosting\": GradientBoostingRegressor(),\n",
    "    \"xgboost\": XGBRegressor(),\n",
    "    \"knn\": KNeighborsRegressor()\n",
    "}\n",
    "\n",
    "\n",
    "for name, model in models.items():\n",
    "    model.fit(X_train, y_train)\n",
    "    joblib.dump(model, f\"flight_price_prediction/models/{name}.pkl\")\n",
    "\n",
    "print(\"All model saved.\")"
   ]
  }
 ],
 "metadata": {
  "kernelspec": {
   "display_name": "base",
   "language": "python",
   "name": "python3"
  },
  "language_info": {
   "codemirror_mode": {
    "name": "ipython",
    "version": 3
   },
   "file_extension": ".py",
   "mimetype": "text/x-python",
   "name": "python",
   "nbconvert_exporter": "python",
   "pygments_lexer": "ipython3",
   "version": "3.12.3"
  }
 },
 "nbformat": 4,
 "nbformat_minor": 5
}
